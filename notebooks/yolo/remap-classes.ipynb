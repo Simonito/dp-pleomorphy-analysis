{
 "cells": [
  {
   "cell_type": "code",
   "execution_count": null,
   "id": "a08f8c91",
   "metadata": {},
   "outputs": [],
   "source": [
    "import yaml\n",
    "from pathlib import Path\n",
    "\n",
    "def remap_yolo_annotations(yaml_path: str):\n",
    "    \"\"\"\n",
    "    Remaps YOLO dataset annotations according to specified categories:\n",
    "      - Keeps:\n",
    "          \"mitóza\"\n",
    "          \"referenčné bunky - erytrocyt\"\n",
    "          \"referenčná bunky - lymfocyt\"\n",
    "          \"hyperchrómne jadro\"\n",
    "      - Merges all others into \"podozrivé jadro\"\n",
    "    Updates both YAML and label files.\n",
    "    \"\"\"\n",
    "\n",
    "    yaml_path = Path(yaml_path)\n",
    "    with open(yaml_path, \"r\", encoding=\"utf-8\") as f:\n",
    "        data = yaml.safe_load(f)\n",
    "\n",
    "    keep_labels = {\n",
    "        \"mitóza\": \"mitóza\",\n",
    "        \"referenčné bunky - erytrocyt\": \"referenčné bunky - erytrocyt\",\n",
    "        \"referenčná bunky - lymfocyt\": \"referenčná bunky - lymfocyt\",\n",
    "        \"hyperchrómne jadro\": \"hyperchrómne jadro\",\n",
    "    }\n",
    "\n",
    "    new_label_names = [\n",
    "        \"podozrivé jadro\",  # merged class\n",
    "        *keep_labels.values(),\n",
    "    ]\n",
    "    new_label_to_id = {name: i for i, name in enumerate(new_label_names)}\n",
    "\n",
    "    # build a mapping from old_id -> new_id\n",
    "    print(data[\"names\"])\n",
    "    old_to_new = {}\n",
    "    for old_id, old_name in data[\"names\"].items():\n",
    "        old_name = bytes(old_name, \"utf-8\").decode(\"utf-8\")\n",
    "        if old_name in keep_labels:\n",
    "            new_id = new_label_to_id[keep_labels[old_name]]\n",
    "        else:\n",
    "            new_id = new_label_to_id[\"podozrivé jadro\"]\n",
    "        old_to_new[int(old_id)] = new_id\n",
    "\n",
    "    # # update YAML\n",
    "    # data[\"names\"] = {i: name for i, name in enumerate(new_label_names)}\n",
    "    # with open(yaml_path, \"w\", encoding=\"utf-8\") as f:\n",
    "    #     yaml.dump(data, f, allow_unicode=True)\n",
    "\n",
    "    # # update label files\n",
    "    # base_path = yaml_path.parent\n",
    "    # for split in [\"train\", \"val\"]:\n",
    "    #     label_dir = base_path / data[split].replace(\"images\", \"labels\")\n",
    "    #     for txt_file in label_dir.rglob(\"*.txt\"):\n",
    "    #         lines = txt_file.read_text(encoding=\"utf-8\").strip().splitlines()\n",
    "    #         new_lines = []\n",
    "    #         for line in lines:\n",
    "    #             if not line.strip():\n",
    "    #                 continue\n",
    "    #             parts = line.split()\n",
    "    #             old_id = int(parts[0])\n",
    "    #             new_id = old_to_new[old_id]\n",
    "    #             parts[0] = str(new_id)\n",
    "    #             new_lines.append(\" \".join(parts))\n",
    "    #         txt_file.write_text(\"\\n\".join(new_lines), encoding=\"utf-8\")\n",
    "\n",
    "    print(\"Remapping completed successfully.\")\n",
    "    print(\"New class mapping:\")\n",
    "    for i, name in data[\"names\"].items():\n",
    "        print(f\"{i}: {name}\")\n",
    "    return old_to_new\n"
   ]
  },
  {
   "cell_type": "code",
   "execution_count": 21,
   "id": "a61a32b4",
   "metadata": {},
   "outputs": [
    {
     "name": "stdout",
     "output_type": "stream",
     "text": [
      "{0: 'veľké nepravidelné jadro', 1: 'veľké jadro', 2: 'nepravidelné jadro', 3: 'viacpočetné jadierka', 4: 'veľké jadierko', 5: 'mitóza', 6: 'hyperchrómne jadro', 7: 'referenčné bunky - erytrocyt', 8: 'referenčná bunky - lymfocyt', 9: 'viacjadrová bunka'}\n",
      "{'path': '/Users/simon/Documents/000_fiit/09_semester/DP/notebooks/pleomorphy-analysis/dp-pleomorphy-analysis/data/processed/initial-640/yolo_dataset', 'train': 'images/train', 'val': 'images/val', 'names': {0: 'podozrivé jadro', 1: 'mitóza', 2: 'referenčné bunky - erytrocyt', 3: 'referenčná bunky - lymfocyt', 4: 'hyperchrómne jadro'}}\n",
      "✅ Remapping completed successfully.\n",
      "New class mapping:\n",
      "0: podozrivé jadro\n",
      "1: mitóza\n",
      "2: referenčné bunky - erytrocyt\n",
      "3: referenčná bunky - lymfocyt\n",
      "4: hyperchrómne jadro\n"
     ]
    }
   ],
   "source": [
    "old_to_new = remap_yolo_annotations('/Users/simon/Documents/000_fiit/09_semester/DP/notebooks/pleomorphy-analysis/dp-pleomorphy-analysis/data/processed/yolo-initial-640/yolo_dataset/data.yaml')"
   ]
  },
  {
   "cell_type": "code",
   "execution_count": 23,
   "id": "f564de97",
   "metadata": {},
   "outputs": [
    {
     "data": {
      "text/plain": [
       "{0: 0, 1: 0, 2: 0, 3: 0, 4: 0, 5: 1, 6: 4, 7: 2, 8: 3, 9: 0}"
      ]
     },
     "execution_count": 23,
     "metadata": {},
     "output_type": "execute_result"
    }
   ],
   "source": [
    "old_to_new"
   ]
  },
  {
   "cell_type": "code",
   "execution_count": null,
   "id": "22ae307b",
   "metadata": {},
   "outputs": [],
   "source": []
  }
 ],
 "metadata": {
  "kernelspec": {
   "display_name": "tile-and-segment-instances",
   "language": "python",
   "name": "python3"
  },
  "language_info": {
   "codemirror_mode": {
    "name": "ipython",
    "version": 3
   },
   "file_extension": ".py",
   "mimetype": "text/x-python",
   "name": "python",
   "nbconvert_exporter": "python",
   "pygments_lexer": "ipython3",
   "version": "3.11.13"
  }
 },
 "nbformat": 4,
 "nbformat_minor": 5
}
