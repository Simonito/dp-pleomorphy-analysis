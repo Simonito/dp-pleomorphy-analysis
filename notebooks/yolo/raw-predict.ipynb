{
 "cells": [
  {
   "cell_type": "code",
   "execution_count": 59,
   "id": "7352d831",
   "metadata": {},
   "outputs": [],
   "source": [
    "from ultralytics import YOLO\n",
    "import geopandas as gpd\n",
    "from shapely.geometry import Polygon\n",
    "import numpy as np\n",
    "from pathlib import Path\n",
    "import os\n",
    "import json\n",
    "import colorsys\n",
    "from skimage.measure import find_contours"
   ]
  },
  {
   "cell_type": "code",
   "execution_count": 60,
   "id": "45444dc5",
   "metadata": {},
   "outputs": [],
   "source": [
    "def collect_files(directory: str, suffixes=['.png', '.tiff', '.tif']):\n",
    "    directory_path = Path(directory)\n",
    "    if not directory_path.is_dir():\n",
    "        raise NotADirectoryError(f\"{directory} is not a valid directory\")\n",
    "\n",
    "    if not isinstance(suffixes, (list, tuple)):\n",
    "        suffixes = [suffixes]\n",
    "\n",
    "    # collect only depth 1 files\n",
    "    files = [\n",
    "        file for file in directory_path.iterdir()\n",
    "        if file.is_file() and file.suffix.lower() in suffixes\n",
    "    ]\n",
    "    return files"
   ]
  },
  {
   "cell_type": "code",
   "execution_count": 67,
   "id": "ae599c72",
   "metadata": {},
   "outputs": [],
   "source": [
    "# model = YOLO(\"../../runs/detect/train/weights/best.pt\")\n",
    "model = YOLO(\"/Users/simon/Downloads/best-loop3-640-deduped-merged.pt\")\n",
    "# model = YOLO(\"/Users/simon/Downloads/best-onepass-1024.pt\")"
   ]
  },
  {
   "cell_type": "code",
   "execution_count": 68,
   "id": "bb4fd39a",
   "metadata": {},
   "outputs": [
    {
     "name": "stdout",
     "output_type": "stream",
     "text": [
      "\n"
     ]
    },
    {
     "name": "stdout",
     "output_type": "stream",
     "text": [
      "0: 1024x1024 115 podozrivé jadros, 1 referenčná bunky - lymfocyt, 9 hyperchrómne jadros, 276.4ms\n",
      "Speed: 5.7ms preprocess, 276.4ms inference, 6.3ms postprocess per image at shape (1, 3, 1024, 1024)\n"
     ]
    }
   ],
   "source": [
    "IMAGES = [\n",
    "    # '/Users/simon/Downloads/test nuclei/image_02.tif.tif',\n",
    "    # '/Users/simon/Documents/000_fiit/09_semester/DP/notebooks/pleomorphy-analysis/dp-pleomorphy-analysis/data/processed/yolo-initial-640/yolo_dataset/images/val/tile_0004_2560_0.tif'\n",
    "    '/Users/simon/Documents/000_fiit/09_semester/DP/notebooks/pleomorphy-analysis/dp-pleomorphy-analysis/data/processed/yolo-larger-1024/yolo_dataset/images/val/tile_0002_2048_0.tif'\n",
    "]\n",
    "# IMAGES = collect_files(\n",
    "#     directory='/Users/simon/Documents/000_fiit/09_semester/DP/notebooks/pleomorphy-analysis/dp-pleomorphy-analysis/data/processed/yolo-initial-640/yolo_dataset/images/val',\n",
    "#     suffixes=['.tif']\n",
    "# )\n",
    "\n",
    "results = model(\n",
    "    IMAGES,\n",
    "    imgsz=1024,\n",
    "    conf=0.05\n",
    ")"
   ]
  },
  {
   "cell_type": "code",
   "execution_count": 69,
   "id": "876d8ccb",
   "metadata": {},
   "outputs": [],
   "source": [
    "for result in results:\n",
    "    boxes = result.boxes  # Boxes object for bounding box outputs\n",
    "    masks = result.masks  # Masks object for segmentation masks outputs\n",
    "    keypoints = result.keypoints  # Keypoints object for pose outputs\n",
    "    probs = result.probs  # Probs object for classification outputs\n",
    "    obb = result.obb  # Oriented boxes object for OBB outputs\n",
    "    result.show()  # display to screen\n",
    "    result.save(filename=\"result-deduped.jpg\")  # save to disk"
   ]
  },
  {
   "cell_type": "code",
   "execution_count": 67,
   "id": "b455dc26",
   "metadata": {},
   "outputs": [
    {
     "name": "stderr",
     "output_type": "stream",
     "text": [
      "/var/folders/_g/h96ft5kx71z2_90v7hcqx0zh0000gn/T/ipykernel_25974/1275471371.py:1: DeprecationWarning: Conversion of an array with ndim > 0 to a scalar is deprecated, and will error in future. Ensure you extract a single element from your array before performing this operation. (Deprecated NumPy 1.25.)\n",
      "  results[0].names[int(results[0].boxes[0].cls.cpu().numpy())]\n"
     ]
    },
    {
     "data": {
      "text/plain": [
       "'veľké jadro'"
      ]
     },
     "execution_count": 67,
     "metadata": {},
     "output_type": "execute_result"
    }
   ],
   "source": [
    "results[0].names[int(results[0].boxes[0].cls.cpu().numpy())]"
   ]
  },
  {
   "cell_type": "markdown",
   "id": "c449da3b",
   "metadata": {},
   "source": [
    "# careful here, saves near the input files\n",
    "\n",
    "- we should probably allow to specify out_dir\n",
    "- the geojson is not great for QuPath\n",
    "  - missing classification\n",
    "  - all colors are the same\n",
    "  - no class names"
   ]
  },
  {
   "cell_type": "code",
   "execution_count": 70,
   "id": "b5499416",
   "metadata": {},
   "outputs": [],
   "source": [
    "def class_to_color(class_id, num_classes):\n",
    "    hsv_tuples = [(x / num_classes, 1.0, 1.0) for x in range(num_classes)]\n",
    "\n",
    "    colors = []\n",
    "    for hsv in hsv_tuples:\n",
    "        rgb = colorsys.hsv_to_rgb(*hsv)\n",
    "        # scale to [0, 255] and convert to integers\n",
    "        rgb = tuple(int(255 * x) for x in rgb)\n",
    "        colors.append(rgb)\n",
    "    \n",
    "    return colors[class_id]\n",
    "\n",
    "\n",
    "def yolo_results_to_geojson(results, image_paths, save_dir=None):\n",
    "    for idx, (result, image_path) in enumerate(zip(results, image_paths)):\n",
    "        features = []\n",
    "\n",
    "        boxes = result.boxes\n",
    "        masks = result.masks\n",
    "        names = result.names\n",
    "\n",
    "        if boxes is not None:\n",
    "            for box in boxes:\n",
    "                xyxy = box.xyxy.cpu().numpy()  # [x_min, y_min, x_max, y_max]\n",
    "                if len(xyxy) == 0:\n",
    "                    continue\n",
    "\n",
    "                x_min, y_min, x_max, y_max = xyxy[0]\n",
    "                polygon = Polygon([\n",
    "                    (x_min, y_min),\n",
    "                    (x_max, y_min),\n",
    "                    (x_max, y_max),\n",
    "                    (x_min, y_max),\n",
    "                    (x_min, y_min)\n",
    "                ])\n",
    "                # get class label and confidence\n",
    "                class_id = int(box.cls.cpu().numpy()) if box.cls is not None else None\n",
    "                conf = float(box.conf.cpu().numpy()) if box.conf is not None else None\n",
    "\n",
    "                features.append({\n",
    "                    'geometry': polygon,\n",
    "                    'properties': {\n",
    "                        'class_id': class_id,\n",
    "                        'confidence': conf,\n",
    "                        'type': 'bbox',\n",
    "                        'image': str(image_path),\n",
    "                        'classification': json.dumps({\n",
    "                            'name': names[class_id],\n",
    "                            'color': class_to_color(class_id=class_id, num_classes=len(names))\n",
    "                        }),\n",
    "                    }\n",
    "                })\n",
    "\n",
    "        if masks is not None:\n",
    "            for mask, box in zip(masks.data, masks.boxes):\n",
    "                mask_np = mask.cpu().numpy()\n",
    "                # convert mask to polygon(s)\n",
    "                contours = find_contours(mask_np, 0.5)  # find contours at threshold 0.5\n",
    "                for contour in contours:\n",
    "                    # contour is in (row, col) format; convert to (x, y)\n",
    "                    contour = np.flip(contour, axis=1)  # flip to (x, y)\n",
    "                    if len(contour) < 3:\n",
    "                        continue  # skip invalid polygons\n",
    "                    polygon = Polygon(contour)\n",
    "                    if not polygon.is_valid:\n",
    "                        continue  # skip invalid geometries\n",
    "                    # get class label and confidence from corresponding box\n",
    "                    class_id = int(box.cls.cpu().numpy()) if box.cls is not None else None\n",
    "                    conf = float(box.conf.cpu().numpy()) if box.conf is not None else None\n",
    "\n",
    "                    features.append({\n",
    "                        'geometry': polygon,\n",
    "                        'properties': {\n",
    "                            'class_id': class_id,\n",
    "                            'confidence': conf,\n",
    "                            'type': 'mask',\n",
    "                            'image': str(image_path),\n",
    "                            'classification': json.dumps({\n",
    "                                'name': names[class_id],\n",
    "                                'color': class_to_color(class_id=class_id, num_classes=len(names))\n",
    "                            }),\n",
    "                        },\n",
    "                    })\n",
    "\n",
    "\n",
    "        if features:\n",
    "            gdf = gpd.GeoDataFrame(\n",
    "                [f['properties'] for f in features],\n",
    "                geometry=[f['geometry'] for f in features]\n",
    "            )\n",
    "\n",
    "            image_path = Path(image_path)\n",
    "            output_path = image_path.with_suffix('.geojson')\n",
    "            if save_dir is not None:\n",
    "                os.makedirs(save_dir, exist_ok=True)\n",
    "                output_path = os.path.join(save_dir, os.path.basename(output_path))\n",
    "\n",
    "            gdf.to_file(output_path, driver='GeoJSON')\n",
    "            print(f\"GeoJSON for {image_path} saved to {output_path}\")\n",
    "        else:\n",
    "            print(f\"No annotations found for {image_path}\")"
   ]
  },
  {
   "cell_type": "code",
   "execution_count": 71,
   "id": "9d10bce3",
   "metadata": {},
   "outputs": [
    {
     "name": "stdout",
     "output_type": "stream",
     "text": [
      "GeoJSON for /Users/simon/Documents/000_fiit/09_semester/DP/notebooks/pleomorphy-analysis/dp-pleomorphy-analysis/data/processed/yolo-larger-1024/yolo_dataset/images/val/tile_0002_2048_0.tif saved to raw-predict-results-640-deduped/tile_0002_2048_0.geojson\n"
     ]
    },
    {
     "name": "stderr",
     "output_type": "stream",
     "text": [
      "/var/folders/_g/h96ft5kx71z2_90v7hcqx0zh0000gn/T/ipykernel_35026/238720610.py:37: DeprecationWarning: Conversion of an array with ndim > 0 to a scalar is deprecated, and will error in future. Ensure you extract a single element from your array before performing this operation. (Deprecated NumPy 1.25.)\n",
      "  class_id = int(box.cls.cpu().numpy()) if box.cls is not None else None\n",
      "/var/folders/_g/h96ft5kx71z2_90v7hcqx0zh0000gn/T/ipykernel_35026/238720610.py:38: DeprecationWarning: Conversion of an array with ndim > 0 to a scalar is deprecated, and will error in future. Ensure you extract a single element from your array before performing this operation. (Deprecated NumPy 1.25.)\n",
      "  conf = float(box.conf.cpu().numpy()) if box.conf is not None else None\n",
      "/Users/simon/Documents/000_fiit/09_semester/DP/notebooks/pleomorphy-analysis/dp-pleomorphy-analysis/.venv/lib/python3.11/site-packages/pyogrio/geopandas.py:710: UserWarning: 'crs' was not provided.  The output dataset will not have projection information defined and may not be usable in other systems.\n",
      "  write(\n"
     ]
    }
   ],
   "source": [
    "geojson_polygons = yolo_results_to_geojson(results, IMAGES, save_dir='raw-predict-results-640-deduped')"
   ]
  },
  {
   "cell_type": "code",
   "execution_count": null,
   "id": "62eefb30",
   "metadata": {},
   "outputs": [],
   "source": []
  }
 ],
 "metadata": {
  "kernelspec": {
   "display_name": "tile-and-segment-instances",
   "language": "python",
   "name": "python3"
  },
  "language_info": {
   "codemirror_mode": {
    "name": "ipython",
    "version": 3
   },
   "file_extension": ".py",
   "mimetype": "text/x-python",
   "name": "python",
   "nbconvert_exporter": "python",
   "pygments_lexer": "ipython3",
   "version": "3.11.13"
  }
 },
 "nbformat": 4,
 "nbformat_minor": 5
}
